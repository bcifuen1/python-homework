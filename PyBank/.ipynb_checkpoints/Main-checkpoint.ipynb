{
 "cells": [
  {
   "cell_type": "code",
   "execution_count": 21,
   "metadata": {},
   "outputs": [],
   "source": [
    "#dependencies\n",
    "from pathlib import Path\n",
    "import csv\n",
    "\n",
    "#file Path\n",
    "budget = Path(\"budget_data.csv\")"
   ]
  },
  {
   "cell_type": "code",
   "execution_count": 22,
   "metadata": {},
   "outputs": [],
   "source": [
    "#Variables \n",
    "total_months = 0\n",
    "total_revenue = 0\n",
    "\n",
    "prev_revenue = 0\n",
    "revenue_change = 0\n",
    "greatest_increase = [\"\", 0]\n",
    "greatest_decrease = [\"\", 9999999999999999999999]\n",
    "\n",
    "revenue_changes = []"
   ]
  },
  {
   "cell_type": "code",
   "execution_count": 23,
   "metadata": {},
   "outputs": [
    {
     "name": "stdout",
     "output_type": "stream",
     "text": [
      "\n",
      "\n",
      "\n",
      "Financial Analysis\n",
      "-------------------------\n",
      "Total Months: 86\n",
      "Total Revenue: $38382578\n",
      "Average Change: $446309.05\n",
      "Greatest Increase: Feb-2012 ($1926159)\n",
      "Greatest Decrease: Sep-2013 ($-2196167)\n"
     ]
    }
   ],
   "source": [
    "with open(budget) as revenue_data:\n",
    "    csvreader = csv.DictReader(revenue_data)\n",
    "\n",
    "    # Loop rows of data \n",
    "    for row in csvreader:\n",
    "\n",
    "        # Calculate the totals\n",
    "        total_months = total_months + 1\n",
    "        total_revenue = total_revenue + int(row[\"Profit/Losses\"])\n",
    "        # print(row)\n",
    "\n",
    "        # revenue change\n",
    "        revenue_change = int(row[\"Profit/Losses\"]) - prev_revenue\n",
    "        \n",
    "\n",
    "        # reset prev value\n",
    "        prev_revenue = int(row[\"Profit/Losses\"])\n",
    "        \n",
    "\n",
    "        # greatest increase and decrease\n",
    "        if (revenue_change > greatest_increase[1]):\n",
    "            greatest_increase[1] = revenue_change\n",
    "            greatest_increase[0] = row[\"Date\"]\n",
    "\n",
    "        if (revenue_change < greatest_decrease[1]):\n",
    "            greatest_decrease[1] = revenue_change\n",
    "            greatest_decrease[0] = row[\"Date\"]\n",
    "\n",
    "        # append\n",
    "        revenue_changes.append(int(row[\"Profit/Losses\"]))\n",
    "\n",
    "    # revenue average\n",
    "    revenue_avg = sum(revenue_changes) / len(revenue_changes)\n",
    "    \n",
    "    # output results\n",
    "    print()\n",
    "    print()\n",
    "    print()\n",
    "    print(\"Financial Analysis\")\n",
    "    print(\"-------------------------\")\n",
    "    print(\"Total Months: \" + str(total_months))\n",
    "    print(\"Total Revenue: \" + \"$\" + str(total_revenue))\n",
    "    print(\"Average Change: \" + \"$\" + str(round(sum(revenue_changes) / len(revenue_changes),2)))\n",
    "    print(\"Greatest Increase: \" + str(greatest_increase[0]) + \" ($\" +  str(greatest_increase[1]) + \")\") \n",
    "    print(\"Greatest Decrease: \" + str(greatest_decrease[0]) + \" ($\" +  str(greatest_decrease[1]) + \")\")"
   ]
  },
  {
   "cell_type": "code",
   "execution_count": 29,
   "metadata": {},
   "outputs": [],
   "source": [
    "output = Path(\"untitled.txt\")\n",
    "with open(output, \"w\") as txt_file:\n",
    "    txt_file.write(\"Total Months: \" + str(total_months))\n",
    "    txt_file.write(\"\\n\")\n",
    "    txt_file.write(\"Total Revenue: \" + \"$\" + str(total_revenue))\n",
    "    txt_file.write(\"\\n\")\n",
    "    txt_file.write(\"Average Change: \" + \"$\" + str(round(sum(revenue_changes) / len(revenue_changes),2)))\n",
    "    txt_file.write(\"\\n\")\n",
    "    txt_file.write(\"Greatest Increase: \" + str(greatest_increase[0]) + \" ($\" + str(greatest_increase[1]) + \")\") \n",
    "    txt_file.write(\"\\n\")\n",
    "    txt_file.write(\"Greatest Decrease: \" + str(greatest_decrease[0]) + \" ($\" + str(greatest_decrease[1]) + \")\")"
   ]
  },
  {
   "cell_type": "code",
   "execution_count": null,
   "metadata": {},
   "outputs": [],
   "source": []
  }
 ],
 "metadata": {
  "kernelspec": {
   "display_name": "Python 3",
   "language": "python",
   "name": "python3"
  },
  "language_info": {
   "codemirror_mode": {
    "name": "ipython",
    "version": 3
   },
   "file_extension": ".py",
   "mimetype": "text/x-python",
   "name": "python",
   "nbconvert_exporter": "python",
   "pygments_lexer": "ipython3",
   "version": "3.8.3"
  }
 },
 "nbformat": 4,
 "nbformat_minor": 4
}
